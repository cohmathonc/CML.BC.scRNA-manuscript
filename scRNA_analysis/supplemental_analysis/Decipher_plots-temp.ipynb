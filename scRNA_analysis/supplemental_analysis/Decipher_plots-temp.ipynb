{
 "cells": [
  {
   "cell_type": "code",
   "execution_count": 1,
   "id": "988917b7",
   "metadata": {},
   "outputs": [],
   "source": [
    "import matplotlib.pyplot as plt\n",
    "#import seaborn as sns\n",
    "import numpy as np\n",
    "import scanpy as sc\n",
    "import decipher as dc\n",
    "import anndata as ad\n",
    "from scipy.io import mmread\n",
    "from scipy.sparse import csr_matrix\n",
    "from collections import Counter\n",
    "from decipher.plot.decipher import decipher as plot_decipher_v"
   ]
  },
  {
   "cell_type": "markdown",
   "id": "96721163",
   "metadata": {},
   "source": [
    "# loading data"
   ]
  },
  {
   "cell_type": "code",
   "execution_count": null,
   "id": "5169d96f",
   "metadata": {},
   "outputs": [
    {
     "name": "stdout",
     "output_type": "stream",
     "text": [
      "mkdir: cannot create directory ‘plots’: File exists\r\n"
     ]
    }
   ],
   "source": [
    "\"\"\"\n",
    ":::NOTE:::\n",
    "This section requires retreiving the seurat .rds file and converting it to h5ad\n",
    "After the GEO data is made public, this will be updated with code to convert GEO serurat object to h5ad.\n",
    "Until then, the seurat object from GSE296507 will need to be manually retreived and converted\n",
    "\"\"\"\n",
    "h5ad_file = \"<manually_converted_seurat_object>\"\n",
    "cml = sc.read_h5ad(h5ad_file)\n",
    "bc_data = cml[cml.obs['treatment'] == \"CML_KO\"]\n",
    "!mkdir plots # create the directory  "
   ]
  },
  {
   "cell_type": "markdown",
   "id": "d6147e0d",
   "metadata": {},
   "source": [
    "# train decipher for all cells"
   ]
  },
  {
   "cell_type": "code",
   "execution_count": null,
   "id": "ce9e34e6",
   "metadata": {},
   "outputs": [
    {
     "name": "stderr",
     "output_type": "stream",
     "text": [
      "2025-04-05 20:40:27,889 | INFO : Added `.obs['decipher_split']`: the Decipher train/validation split.\n",
      " 31099 cells in validation set.\n",
      "Epoch 0 (batch 4373/4373) | | train elbo: 8191.27 (last epoch: nan) | val ll: nan:   0%| | 0/10"
     ]
    }
   ],
   "source": [
    "d1, val1 = dc.tl.decipher_train(\n",
    "    cml,plot_kwargs={\"color\": \"scaled_time\"},plot_every_k_epochs=2,\n",
    ")\n",
    "plt_all = plot_decipher_v(cml,color = 'scaled_time')\n",
    "plt_all.savefig(\"./plots/dec_all.png\", dpi=1200)\n"
   ]
  },
  {
   "cell_type": "markdown",
   "id": "126fa8e6",
   "metadata": {},
   "source": [
    "# train decipher for B cells"
   ]
  },
  {
   "cell_type": "code",
   "execution_count": null,
   "id": "c8441cab",
   "metadata": {},
   "outputs": [],
   "source": [
    "cml_b = cml[cml.obs['ct.4.grp'] == \"B_cells\"]\n",
    "bd1, bval1 = dc.tl.decipher_train(\n",
    "    cml_b,plot_kwargs={\"color\": \"scaled_time\"},plot_every_k_epochs=2,\n",
    ")\n",
    "plt_b = plot_decipher_v(cml_b,color = 'scaled_time')\n",
    "plt_b.savefig(\"./plots/dec_b.png\", dpi=1200)"
   ]
  },
  {
   "cell_type": "markdown",
   "id": "63ff33ac",
   "metadata": {},
   "source": [
    "# train decipher for Myeloid cells"
   ]
  },
  {
   "cell_type": "code",
   "execution_count": null,
   "id": "e0d83f19",
   "metadata": {},
   "outputs": [],
   "source": [
    "cml_M = cml[cml.obs['ct.4.grp'] == \"Myeloid\"]\n",
    "d1, val1 = dc.tl.decipher_train(\n",
    "    cml_M,plot_kwargs={\"color\": \"scaled_time\"},plot_every_k_epochs=2,\n",
    ")\n",
    "plt_M = plot_decipher_v(cml_M,color = 'scaled_time')\n",
    "plt_M.savefig(\"./plots/dec_M.png\", dpi=1200)"
   ]
  },
  {
   "cell_type": "markdown",
   "id": "e366bdda",
   "metadata": {},
   "source": [
    "# train decipher for T.NK_cells cells"
   ]
  },
  {
   "cell_type": "code",
   "execution_count": null,
   "id": "0fa26419",
   "metadata": {},
   "outputs": [],
   "source": [
    "cml_T = cml[cml.obs['ct.4.grp'] == 'T.NK_cells']\n",
    "d1, val1 = dc.tl.decipher_train(\n",
    "    cml_T,plot_kwargs={\"color\": \"scaled_time\"},plot_every_k_epochs=2,\n",
    ")\n",
    "plt_T = plot_decipher_v(cml_T,color = 'scaled_time')\n",
    "plt_T.savefig(\"./plots/dec_t.png\", dpi=1200)"
   ]
  },
  {
   "cell_type": "markdown",
   "id": "d8125e20",
   "metadata": {},
   "source": [
    "# train decipher for Stem_cells cells"
   ]
  },
  {
   "cell_type": "code",
   "execution_count": null,
   "id": "fe1b89d8",
   "metadata": {},
   "outputs": [],
   "source": [
    "cml_S = cml[cml.obs['ct.4.grp'] == 'Stem_cells']\n",
    "d1, val1 = dc.tl.decipher_train(\n",
    "    cml_S,plot_kwargs={\"color\": \"scaled_time\"},plot_every_k_epochs=2,\n",
    ")\n",
    "plt_S = plot_decipher_v(cml_S,color = 'scaled_time')\n",
    "plt_S.savefig(\"./plots/dec_S.png\", dpi=1200)"
   ]
  },
  {
   "cell_type": "markdown",
   "id": "17f5b811",
   "metadata": {},
   "source": [
    "# train decipher for all cells at BC state"
   ]
  },
  {
   "cell_type": "code",
   "execution_count": null,
   "id": "b87b1be7",
   "metadata": {},
   "outputs": [],
   "source": [
    "bcd1, bcval1 = dc.tl.decipher_train(\n",
    "    bc_data,plot_kwargs={\"color\": \"scaled_time\"},plot_every_k_epochs=2,\n",
    ")\n",
    "plt_bc_all = plot_decipher_v(bc_data,color = 'scaled_time')\n",
    "plt_bc_all.savefig(\"./plots/dec_bc_all.png\", dpi=1200)"
   ]
  },
  {
   "cell_type": "markdown",
   "id": "ca60a86d",
   "metadata": {},
   "source": [
    "# train decipher for B cells at BC state"
   ]
  },
  {
   "cell_type": "code",
   "execution_count": null,
   "id": "0073268b",
   "metadata": {},
   "outputs": [],
   "source": [
    "bc_data_B = bc_data[bc_data.obs['ct.4.grp'] == \"B_cells\"]\n",
    "bc_data_bd1, bc_data_bval1 = dc.tl.decipher_train(\n",
    "    bc_data_B,plot_kwargs={\"color\": \"scaled_time\"},plot_every_k_epochs=2,\n",
    ")\n",
    "plt_bc_b = plot_decipher_v(bc_data_B,color = 'scaled_time')\n",
    "plt_bc_b.savefig(\"./plots/dec_bc_b.png\", dpi=1200)"
   ]
  },
  {
   "cell_type": "markdown",
   "id": "30068546",
   "metadata": {},
   "source": [
    "# train decipher for Myeloid cells at BC state"
   ]
  },
  {
   "cell_type": "code",
   "execution_count": null,
   "id": "623ae14c",
   "metadata": {},
   "outputs": [],
   "source": [
    "bc_data_M = bc_data[bc_data.obs['ct.4.grp'] == \"Myeloid\"]\n",
    "bc_data_Md1, bc_data_Mval1 = dc.tl.decipher_train(\n",
    "    bc_data_M,plot_kwargs={\"color\": \"scaled_time\"},plot_every_k_epochs=2,\n",
    ")\n",
    "plt_bc_M = plot_decipher_v(bc_data_M,color = 'scaled_time')\n",
    "plt_bc_M.savefig(\"./plots/dec_bc_M.png\", dpi=1200)"
   ]
  },
  {
   "cell_type": "markdown",
   "id": "154d6ed7",
   "metadata": {},
   "source": [
    "# train decipher for T.NK_cells cells at BC state"
   ]
  },
  {
   "cell_type": "code",
   "execution_count": null,
   "id": "6fac1ed8",
   "metadata": {},
   "outputs": [],
   "source": [
    "bc_data_T = bc_data[bc_data.obs['ct.4.grp'] == \"T.NK_cells\"]\n",
    "bc_data_Td1, bc_data_Tval1 = dc.tl.decipher_train(\n",
    "    bc_data_T,plot_kwargs={\"color\": \"scaled_time\"},plot_every_k_epochs=2,\n",
    ")\n",
    "plt_bc_T = plot_decipher_v(bc_data_T,color = 'scaled_time')\n",
    "plt_bc_T.savefig(\"./plots/dec_bc_T.png\", dpi=1200)"
   ]
  },
  {
   "cell_type": "markdown",
   "id": "ce007000",
   "metadata": {},
   "source": [
    "# train decipher for Stem_cells cells at BC state"
   ]
  },
  {
   "cell_type": "code",
   "execution_count": null,
   "id": "21f3a660",
   "metadata": {},
   "outputs": [],
   "source": [
    "bc_data_S = bc_data[bc_data.obs['ct.4.grp'] == \"Stem_cells\"]\n",
    "bc_data_Sd1, bc_data_Sval1 = dc.tl.decipher_train(\n",
    "    bc_data_S,plot_kwargs={\"color\": \"scaled_time\"},plot_every_k_epochs=2,\n",
    ")\n",
    "plt_bc_S = plot_decipher_v(bc_data_S,color = 'scaled_time')\n",
    "plt_bc_S.savefig(\"./plots/dec_bc_S.png\", dpi=1200)"
   ]
  }
 ],
 "metadata": {
  "kernelspec": {
   "display_name": "biVI_env",
   "language": "python",
   "name": "python3"
  },
  "language_info": {
   "codemirror_mode": {
    "name": "ipython",
    "version": 3
   },
   "file_extension": ".py",
   "mimetype": "text/x-python",
   "name": "python",
   "nbconvert_exporter": "python",
   "pygments_lexer": "ipython3",
   "version": "3.10.0"
  }
 },
 "nbformat": 4,
 "nbformat_minor": 5
}
