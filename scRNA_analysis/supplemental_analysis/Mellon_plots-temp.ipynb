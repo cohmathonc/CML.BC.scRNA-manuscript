{
 "cells": [
  {
   "cell_type": "code",
   "execution_count": 11,
   "id": "746e17da",
   "metadata": {},
   "outputs": [],
   "source": [
    "import numpy as np\n",
    "import matplotlib\n",
    "import mellon\n",
    "import matplotlib.pyplot as plt\n",
    "from sklearn.cluster import k_means\n",
    "import palantir\n",
    "import scanpy as sc\n",
    "import pandas as pd"
   ]
  },
  {
   "cell_type": "code",
   "execution_count": 12,
   "id": "9bc585d7",
   "metadata": {},
   "outputs": [],
   "source": [
    "!mkdir plots # create the directory  "
   ]
  },
  {
   "cell_type": "markdown",
   "id": "5463b91d",
   "metadata": {},
   "source": [
    "# Mellon estimate for all cells"
   ]
  },
  {
   "cell_type": "code",
   "execution_count": null,
   "id": "16ee4f80",
   "metadata": {},
   "outputs": [],
   "source": [
    "\"\"\"\n",
    ":::NOTE:::\n",
    "This section requires retreiving the seurat .rds file and converting it to h5ad\n",
    "After the GEO data is made public, this will be updated with code to convert GEO serurat object to h5ad.\n",
    "Until then, the seurat object from GSE296507 will need to be manually retreived and converted\n",
    "\"\"\"\n",
    "h5ad_file=\"<manually_converted_seurat_object>\"\n",
    "\n",
    "# loading value\n",
    "ad1 = sc.read_h5ad(h5ad_file)\n",
    "# run diffusion map for density estimate\n",
    "dm_res = palantir.utils.run_diffusion_maps(ad1, pca_key=\"X_pca\", n_components=20)\n",
    "# run mellon to estimate cell density\n",
    "model = mellon.DensityEstimator()\n",
    "log_density = model.fit_predict(ad1.obsm[\"DM_EigenVectors\"])\n",
    "predictor = model.predict\n",
    "# add estimate value to the anndata object\n",
    "ad1.obs[\"mellon_log_density\"] = log_density\n",
    "# To make the plot more clear, clip the low density range\n",
    "ad1.obs[\"mellon_log_density_clipped\"] = np.clip(\n",
    "    log_density, *np.quantile(log_density, [0.05, 1])\n",
    ")\n",
    "# plot density map\n",
    "sc.pl.scatter(\n",
    "    ad1, color=[\"mellon_log_density\", \"mellon_log_density_clipped\"], basis=\"umap\"\n",
    ")"
   ]
  },
  {
   "cell_type": "markdown",
   "id": "97a1719d",
   "metadata": {},
   "source": [
    "# plot density plot for all cells at t0"
   ]
  },
  {
   "cell_type": "code",
   "execution_count": 14,
   "id": "306dc5cb",
   "metadata": {},
   "outputs": [],
   "source": [
    "# select the t0 data\n",
    "ad_t0 = ad1[ad1.obs['scaled_time'] == 0]\n",
    "sc.settings.set_figure_params(dpi_save=1200) # set high dpi\n",
    "\n",
    "\n",
    "with plt.rc_context():  # Use this to set figure params like size and dpi\n",
    "    sc.pl.scatter(\n",
    "    ad_t0, color=[\"mellon_log_density\", \"mellon_log_density_clipped\"], basis=\"umap\", show=False\n",
    ")\n",
    "    plt.savefig(\"./plots/Mellon_all_t0.png\") # save the plot"
   ]
  },
  {
   "cell_type": "markdown",
   "id": "71246310",
   "metadata": {},
   "source": [
    "# plot density plot for all cells at t1"
   ]
  },
  {
   "cell_type": "code",
   "execution_count": 15,
   "id": "c160d4a8",
   "metadata": {},
   "outputs": [],
   "source": [
    "# select the t1 data\n",
    "ad_t1 = ad1[ad1.obs['scaled_time'] == 1]\n",
    "with plt.rc_context():  # Use this to set figure params like size and dpi\n",
    "    sc.pl.scatter(\n",
    "    ad_t1, color=[\"mellon_log_density\", \"mellon_log_density_clipped\"], basis=\"umap\", show=False\n",
    ")\n",
    "    plt.savefig(\"./plots/Mellon_all_t1.png\") # save the plot"
   ]
  },
  {
   "cell_type": "markdown",
   "id": "4952e4c1",
   "metadata": {},
   "source": [
    "# plot density plot for the BC cells "
   ]
  },
  {
   "cell_type": "code",
   "execution_count": 16,
   "id": "4b31cee7",
   "metadata": {},
   "outputs": [],
   "source": [
    "# select all the bc data\n",
    "bc_data = ad1[ad1.obs['treatment'] == \"CML_KO\"]\n",
    "sc.settings.set_figure_params(dpi_save=1200)\n",
    "\n",
    "\n",
    "with plt.rc_context():  # Use this to set figure params like size and dpi\n",
    "    sc.pl.scatter(\n",
    "    bc_data, color=[\"mellon_log_density\", \"mellon_log_density_clipped\"], basis=\"umap\", show=False\n",
    ")\n",
    "    plt.savefig(\"./plots/Mellon_bc_all.png\")"
   ]
  },
  {
   "cell_type": "code",
   "execution_count": 17,
   "id": "d7b3e65c",
   "metadata": {},
   "outputs": [],
   "source": [
    "# select the bc data at t0\n",
    "bc_data_t0 = bc_data[bc_data.obs['scaled_time'] == 0]\n",
    "sc.settings.set_figure_params(dpi_save=1200)\n",
    "\n",
    "\n",
    "with plt.rc_context():  # Use this to set figure params like size and dpi\n",
    "    sc.pl.scatter(\n",
    "    bc_data_t0, color=[\"mellon_log_density\", \"mellon_log_density_clipped\"], basis=\"umap\", show=False\n",
    ")\n",
    "    plt.savefig(\"./plots/Mellon_bc_t0.png\")"
   ]
  },
  {
   "cell_type": "code",
   "execution_count": 18,
   "id": "2282dbdd",
   "metadata": {},
   "outputs": [],
   "source": [
    "# select the bc data at t1\n",
    "bc_data_t1 = bc_data[bc_data.obs['scaled_time'] == 1]\n",
    "sc.settings.set_figure_params(dpi_save=1200)\n",
    "\n",
    "\n",
    "with plt.rc_context():  # Use this to set figure params like size and dpi\n",
    "    sc.pl.scatter(\n",
    "    bc_data_t1, color=[\"mellon_log_density\", \"mellon_log_density_clipped\"], basis=\"umap\", show=False\n",
    ")\n",
    "    plt.savefig(\"./plots/Mellon_bc_t1.png\")"
   ]
  }
 ],
 "metadata": {
  "kernelspec": {
   "display_name": "biVI_env",
   "language": "python",
   "name": "python3"
  },
  "language_info": {
   "codemirror_mode": {
    "name": "ipython",
    "version": 3
   },
   "file_extension": ".py",
   "mimetype": "text/x-python",
   "name": "python",
   "nbconvert_exporter": "python",
   "pygments_lexer": "ipython3",
   "version": "3.10.0"
  }
 },
 "nbformat": 4,
 "nbformat_minor": 5
}
